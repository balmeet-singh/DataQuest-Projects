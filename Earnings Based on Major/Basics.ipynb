{
 "cells": [
  {
   "cell_type": "markdown",
   "metadata": {},
   "source": [
    "# Recent College Graduates Job Outcomes"
   ]
  },
  {
   "cell_type": "markdown",
   "metadata": {},
   "source": [
    "## Introduction\n",
    "\n",
    "Each row in the dataset represents a different major in college and contains information on gender diversity, employment rates, median salaries, and more. Here are some of the columns in the dataset:\n",
    "\n",
    "<ul>\n",
    "<li><code>Rank</code> - Rank by median earnings (the dataset is ordered by this column).</li>\n",
    "<li><code>Major_code</code> - Major code.</li>\n",
    "<li><code>Major</code> - Major description.</li>\n",
    "<li><code>Major_category</code> - Category of major.</li>\n",
    "<li><code>Total</code> - Total number of people with major.</li>\n",
    "<li><code>Sample_size</code> - Sample size (unweighted) of full-time.</li>\n",
    "<li><code>Men</code> - Male graduates.</li>\n",
    "<li><code>Women</code> - Female graduates.</li>\n",
    "<li><code>ShareWomen</code> - Women as share of total.</li>\n",
    "<li><code>Employed</code> - Number employed.</li>\n",
    "<li><code>Median</code> - Median salary of full-time, year-round workers.</li>\n",
    "<li><code>Low_wage_jobs</code> - Number in low-wage service jobs.</li>\n",
    "<li><code>Full_time</code> - Number employed 35 hours or more.</li>\n",
    "<li><code>Part_time</code> - Number employed less than 35 hours.</li>\n",
    "</ul>"
   ]
  },
  {
   "cell_type": "code",
   "execution_count": null,
   "metadata": {
    "scrolled": true
   },
   "outputs": [],
   "source": [
    "import pandas as pd\n",
    "import numpy as np\n",
    "import matplotlib.pyplot as plt\n",
    "%matplotlib inline\n",
    "\n",
    "recent_grads = pd.read_csv('recent-grads.csv')\n",
    "print(recent_grads.iloc[0,:],\n",
    "      recent_grads.head(),\n",
    "      recent_grads.tail(), \n",
    "      sep='\\n \\n')"
   ]
  },
  {
   "cell_type": "markdown",
   "metadata": {},
   "source": [
    "## Cleaning Data\n",
    "\n",
    "Removing rows that are missing values"
   ]
  },
  {
   "cell_type": "code",
   "execution_count": null,
   "metadata": {},
   "outputs": [],
   "source": [
    "recent_grads.describe()"
   ]
  },
  {
   "cell_type": "code",
   "execution_count": null,
   "metadata": {},
   "outputs": [],
   "source": [
    "raw_data_count=recent_grads.shape[0]\n",
    "raw_data_count"
   ]
  },
  {
   "cell_type": "code",
   "execution_count": null,
   "metadata": {},
   "outputs": [],
   "source": [
    "recent_grads=recent_grads.dropna()\n",
    "cleaned_data_count=recent_grads.shape[0]\n",
    "cleaned_data_count"
   ]
  },
  {
   "cell_type": "markdown",
   "metadata": {},
   "source": [
    "## Scatter Plots"
   ]
  },
  {
   "cell_type": "code",
   "execution_count": null,
   "metadata": {},
   "outputs": [],
   "source": [
    "recent_grads.plot(x='Sample_size', y='Median', kind='scatter', title='Median vs. Sample_size')"
   ]
  },
  {
   "cell_type": "code",
   "execution_count": null,
   "metadata": {},
   "outputs": [],
   "source": [
    "recent_grads.plot(x='Sample_size', y='Unemployment_rate', kind='scatter', title='Unemployment_rate vs. Sample_size')"
   ]
  },
  {
   "cell_type": "code",
   "execution_count": null,
   "metadata": {},
   "outputs": [],
   "source": [
    "recent_grads.plot(x='Full_time', y='Median', kind='scatter', title='Median vs. Full_time')"
   ]
  },
  {
   "cell_type": "code",
   "execution_count": null,
   "metadata": {},
   "outputs": [],
   "source": [
    "recent_grads.plot(x='ShareWomen', y='Unemployment_rate', kind='scatter', title='Unemployment_rate vs. ShareWomen')"
   ]
  },
  {
   "cell_type": "code",
   "execution_count": null,
   "metadata": {},
   "outputs": [],
   "source": [
    "recent_grads.plot(x='Men', y='Median', kind='scatter', title='Median vs. Men')"
   ]
  },
  {
   "cell_type": "code",
   "execution_count": null,
   "metadata": {},
   "outputs": [],
   "source": [
    "recent_grads.plot(x='Women', y='Median', kind='scatter', title='Median vs. Women')"
   ]
  },
  {
   "cell_type": "markdown",
   "metadata": {},
   "source": [
    "<ul>\n",
    "<li><code>Do students in more popular majors make more money?</code> \n",
    "<br>\n",
    "<br>\n",
    "    Looking at the scatter plot comparing Sample Size and Median income there is not a strong indication that a more popular major will lead to a higher income.</li>\n",
    "<br>\n",
    "<li><code>Do students that majored in subjects that were majority female make more money?</code> \n",
    "<br>\n",
    "<br>\n",
    "    The scatter plot comparing Female sample and Median income does not indicate that majors with more females makes more money.</li>\n",
    "<br>\n",
    "<li><code>Is there any link between the number of full-time employees and median salary?</code> \n",
    "<br>\n",
    "<br>\n",
    "    The scatter plot comparing full-time employees to median income is very similar to the total sample-size vs median income scatter plot. Nothing can really be gained from examining those differences.</li>\n",
    "</ul>"
   ]
  },
  {
   "cell_type": "markdown",
   "metadata": {},
   "source": [
    "## Histograms"
   ]
  },
  {
   "cell_type": "code",
   "execution_count": null,
   "metadata": {
    "scrolled": true
   },
   "outputs": [],
   "source": [
    "columns = ['Sample_size', 'Median', 'Employed', 'Full_time',\n",
    "           'ShareWomen', 'Unemployment_rate', 'Men', 'Women']\n",
    "\n",
    "fig = plt.figure(figsize=(10,24))\n",
    "for n,c in enumerate(columns):\n",
    "    ax = fig.add_subplot(4,2,n+1)\n",
    "    ax = recent_grads[c].hist(bins=20, xrot=40)\n",
    "    plt.title(c+' Distribution')\n",
    "plt.show()"
   ]
  },
  {
   "cell_type": "markdown",
   "metadata": {
    "collapsed": true
   },
   "source": [
    "<ul>\n",
    "<li><code>What percent of majors are predominantly male? Predominantly female?</code> \n",
    "<br>\n",
    "<br>\n",
    "  About 57% of the majors are predominantly female. Therefore, about 43% of the majors are male dominated. </li>\n",
    "<br>\n",
    "<li><code>What's the most common median salary range?</code> \n",
    "<br>\n",
    "<br>\n",
    "  Around 30,000-35,000 dollars is the most common median salary range.</li>\n",
    "<br>\n",
    "</ul>"
   ]
  },
  {
   "cell_type": "markdown",
   "metadata": {},
   "source": [
    "## Scatter Matrix Plot"
   ]
  },
  {
   "cell_type": "code",
   "execution_count": null,
   "metadata": {
    "scrolled": true
   },
   "outputs": [],
   "source": [
    "from pandas.plotting import scatter_matrix\n",
    "\n",
    "scatter_matrix(recent_grads[['Sample_size', 'Median']],\n",
    "               figsize=(6,6))\n",
    "scatter_matrix(recent_grads[['Sample_size', 'Median', 'Unemployment_rate']],\n",
    "               figsize=(10,10))\n",
    "plt.show()"
   ]
  },
  {
   "cell_type": "markdown",
   "metadata": {},
   "source": [
    "## Bar Plots"
   ]
  },
  {
   "cell_type": "code",
   "execution_count": null,
   "metadata": {
    "scrolled": true
   },
   "outputs": [],
   "source": [
    "recent_grads.head(10).plot.bar(x='Major', \n",
    "                               y='ShareWomen', \n",
    "                               legend=False)\n",
    "recent_grads.tail(10).plot.bar(x='Major', \n",
    "                               y='ShareWomen', \n",
    "                               legend=False)\n",
    "recent_grads.head(10).plot.bar(x='Major', \n",
    "                               y='Unemployment_rate', \n",
    "                               legend=False)\n",
    "recent_grads.tail(10).plot.bar(x='Major', \n",
    "                               y='Unemployment_rate', \n",
    "                               legend=False)\n",
    "plt.show()\n",
    "\n"
   ]
  },
  {
   "cell_type": "markdown",
   "metadata": {},
   "source": [
    "## Comparison of Men and Women for each Major Category"
   ]
  },
  {
   "cell_type": "markdown",
   "metadata": {},
   "source": [
    "### Grouped Bar Plot w/o Pivot"
   ]
  },
  {
   "cell_type": "code",
   "execution_count": null,
   "metadata": {
    "scrolled": true
   },
   "outputs": [],
   "source": [
    "%%timeit\n",
    "men_sum = {}\n",
    "women_sum = {}\n",
    "\n",
    "major_categories = recent_grads['Major_category'].unique()\n",
    "for major in major_categories:\n",
    "    men_sum[major] = recent_grads.loc[recent_grads['Major_category']==major,'Men'].sum()\n",
    "    women_sum[major] = recent_grads.loc[recent_grads['Major_category']==major,'Women'].sum()\n",
    "\n",
    "gender_totals = pd.DataFrame.from_dict(men_sum, orient='index')\n",
    "gender_totals['Women'] = women_sum.values()\n",
    "gender_totals.columns = ['Men', 'Women']\n",
    "gender_totals.sort_index(inplace=True)\n",
    "gender_totals"
   ]
  },
  {
   "cell_type": "code",
   "execution_count": null,
   "metadata": {},
   "outputs": [],
   "source": []
  },
  {
   "cell_type": "code",
   "execution_count": null,
   "metadata": {},
   "outputs": [],
   "source": [
    "gender_totals.plot.bar()"
   ]
  },
  {
   "cell_type": "markdown",
   "metadata": {},
   "source": [
    "### Grouped Bar Plot w/ Pivot"
   ]
  },
  {
   "cell_type": "code",
   "execution_count": null,
   "metadata": {
    "scrolled": true
   },
   "outputs": [],
   "source": [
    "%%timeit\n",
    "gender_totals_pivot = pd.pivot_table(recent_grads, \n",
    "                                     index='Major_category', \n",
    "                                     values=['Men','Women'], \n",
    "                                     aggfunc=np.sum)\n",
    "gender_totals_pivot.index.name = None\n",
    "gender_totals_pivot"
   ]
  },
  {
   "cell_type": "code",
   "execution_count": null,
   "metadata": {},
   "outputs": [],
   "source": [
    "gender_totals_pivot.plot.bar()"
   ]
  },
  {
   "cell_type": "markdown",
   "metadata": {},
   "source": [
    "## Distribution of Median Salaries and Unemployment Rate"
   ]
  },
  {
   "cell_type": "code",
   "execution_count": null,
   "metadata": {
    "scrolled": false
   },
   "outputs": [],
   "source": [
    "fig, (ax1, ax2) = plt.subplots(1, 2,figsize=(10,8))\n",
    "recent_grads['Unemployment_rate'].plot.box(ax=ax1)\n",
    "recent_grads['Median'].plot.box(ax=ax2)\n",
    "plt.show()"
   ]
  },
  {
   "cell_type": "code",
   "execution_count": null,
   "metadata": {},
   "outputs": [],
   "source": [
    "recent_grads.plot.hexbin(x='Women', y=\"Median\", figsize=(10,10))"
   ]
  },
  {
   "cell_type": "code",
   "execution_count": null,
   "metadata": {},
   "outputs": [],
   "source": []
  }
 ],
 "metadata": {
  "kernelspec": {
   "display_name": "Python 3",
   "language": "python",
   "name": "python3"
  },
  "language_info": {
   "codemirror_mode": {
    "name": "ipython",
    "version": 3
   },
   "file_extension": ".py",
   "mimetype": "text/x-python",
   "name": "python",
   "nbconvert_exporter": "python",
   "pygments_lexer": "ipython3",
   "version": "3.6.5"
  }
 },
 "nbformat": 4,
 "nbformat_minor": 1
}
