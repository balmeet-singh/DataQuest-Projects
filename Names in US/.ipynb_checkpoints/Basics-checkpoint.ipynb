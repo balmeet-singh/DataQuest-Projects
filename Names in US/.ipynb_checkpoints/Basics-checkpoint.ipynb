{
 "cells": [
  {
   "cell_type": "markdown",
   "metadata": {
    "collapsed": true
   },
   "source": [
    "# Introduction to Dataset"
   ]
  },
  {
   "cell_type": "code",
   "execution_count": 1,
   "metadata": {},
   "outputs": [
    {
     "name": "stdout",
     "output_type": "stream",
     "text": [
      "['year,month,date_of_month,day_of_week,births', '1994,1,1,6,8096', '1994,1,2,7,7772', '1994,1,3,1,10142', '1994,1,4,2,11248', '1994,1,5,3,11053', '1994,1,6,4,11406', '1994,1,7,5,11251', '1994,1,8,6,8653', '1994,1,9,7,7910']\n"
     ]
    }
   ],
   "source": [
    "f = open(\"US_births_1994-2003_CDC_NCHS.csv\",'r')\n",
    "data = f.read()\n",
    "split_data = data.split('\\n')\n",
    "print(split_data[:10])"
   ]
  },
  {
   "cell_type": "markdown",
   "metadata": {},
   "source": [
    "# Converting Data To a List of Lists"
   ]
  },
  {
   "cell_type": "code",
   "execution_count": 2,
   "metadata": {},
   "outputs": [
    {
     "name": "stdout",
     "output_type": "stream",
     "text": [
      "[[1994, 1, 1, 6, 8096], [1994, 1, 2, 7, 7772], [1994, 1, 3, 1, 10142], [1994, 1, 4, 2, 11248], [1994, 1, 5, 3, 11053], [1994, 1, 6, 4, 11406], [1994, 1, 7, 5, 11251], [1994, 1, 8, 6, 8653], [1994, 1, 9, 7, 7910], [1994, 1, 10, 1, 10498]]\n"
     ]
    }
   ],
   "source": [
    "def read_csv(csv_file):\n",
    "    file = open(csv_file, 'r')\n",
    "    file_string = file.read()\n",
    "    split_file = file_string.split('\\n')\n",
    "    string_list = split_file[1:]\n",
    "    final_list =[]\n",
    "    for row in string_list:\n",
    "        int_fields = []\n",
    "        string_fields = row.split(',')\n",
    "        for column in string_fields:\n",
    "            int_fields.append(int(column))\n",
    "        final_list.append(int_fields)\n",
    "    return final_list\n",
    "\n",
    "cdc_list = read_csv(\"US_births_1994-2003_CDC_NCHS.csv\")\n",
    "print(cdc_list[:10])"
   ]
  },
  {
   "cell_type": "markdown",
   "metadata": {},
   "source": [
    "# Gathering Data for Specific Columns"
   ]
  },
  {
   "cell_type": "code",
   "execution_count": 3,
   "metadata": {},
   "outputs": [
    {
     "name": "stdout",
     "output_type": "stream",
     "text": [
      "{1: 3232517, 2: 3018140, 3: 3322069, 4: 3185314, 5: 3350907, 6: 3296530, 7: 3498783, 8: 3525858, 9: 3439698, 10: 3378814, 11: 3171647, 12: 3301860}\n"
     ]
    }
   ],
   "source": [
    "def month_births(data_list):\n",
    "    births_per_month = {}\n",
    "    for day in data_list:\n",
    "        month = day[1]\n",
    "        births = day[4]\n",
    "        if month in births_per_month:\n",
    "            births_per_month[month] += births\n",
    "        else:\n",
    "            births_per_month[month] = births\n",
    "    return births_per_month\n",
    "\n",
    "cdc_month_births = month_births(cdc_list)\n",
    "print(cdc_month_births)"
   ]
  },
  {
   "cell_type": "code",
   "execution_count": 4,
   "metadata": {},
   "outputs": [
    {
     "name": "stdout",
     "output_type": "stream",
     "text": [
      "{1: 5789166, 2: 6446196, 3: 6322855, 4: 6288429, 5: 6233657, 6: 4562111, 7: 4079723}\n"
     ]
    }
   ],
   "source": [
    "def dow_births(data_list):\n",
    "    births_per_dow = {}\n",
    "    for day in data_list:\n",
    "        dow = day[3]\n",
    "        births = day[4]\n",
    "        if dow in births_per_dow:\n",
    "            births_per_dow[dow] += births\n",
    "        else:\n",
    "            births_per_dow[dow] = births\n",
    "    return births_per_dow\n",
    "\n",
    "cdc_day_births = dow_births(cdc_list)\n",
    "print(cdc_day_births)\n",
    "    "
   ]
  },
  {
   "cell_type": "markdown",
   "metadata": {},
   "source": [
    "# Reusable Function for each Column"
   ]
  },
  {
   "cell_type": "code",
   "execution_count": 5,
   "metadata": {},
   "outputs": [
    {
     "name": "stdout",
     "output_type": "stream",
     "text": [
      "{2000: 4058814, 2001: 4025933, 2002: 4021726, 2003: 4089950, 1994: 3952767, 1995: 3899589, 1996: 3891494, 1997: 3880894, 1998: 3941553, 1999: 3959417}\n",
      "{1: 3232517, 2: 3018140, 3: 3322069, 4: 3185314, 5: 3350907, 6: 3296530, 7: 3498783, 8: 3525858, 9: 3439698, 10: 3378814, 11: 3171647, 12: 3301860}\n",
      "{1: 1276557, 2: 1288739, 3: 1304499, 4: 1288154, 5: 1299953, 6: 1304474, 7: 1310459, 8: 1312297, 9: 1303292, 10: 1320764, 11: 1314361, 12: 1318437, 13: 1277684, 14: 1320153, 15: 1319171, 16: 1315192, 17: 1324953, 18: 1326855, 19: 1318727, 20: 1324821, 21: 1322897, 22: 1317381, 23: 1293290, 24: 1288083, 25: 1272116, 26: 1284796, 27: 1294395, 28: 1307685, 29: 1223161, 30: 1202095, 31: 746696}\n",
      "{1: 5789166, 2: 6446196, 3: 6322855, 4: 6288429, 5: 6233657, 6: 4562111, 7: 4079723}\n"
     ]
    }
   ],
   "source": [
    "def calc_counts(data, column):\n",
    "    births_per_column = {}\n",
    "    for day in data:\n",
    "        length_of_time = day[column]\n",
    "        births = day[4]\n",
    "        if length_of_time in births_per_column:\n",
    "            births_per_column[length_of_time] += births\n",
    "        else:\n",
    "            births_per_column[length_of_time] = births\n",
    "    return births_per_column\n",
    "\n",
    "cdc_year_births = calc_counts(cdc_list, 0)\n",
    "print(cdc_year_births)\n",
    "cdc_month_births = calc_counts(cdc_list, 1)\n",
    "print(cdc_month_births)\n",
    "cdc_dom_births = calc_counts(cdc_list, 2)\n",
    "print(cdc_dom_births)\n",
    "cdc_dow_births = calc_counts(cdc_list, 3)\n",
    "print(cdc_dow_births)"
   ]
  },
  {
   "cell_type": "markdown",
   "metadata": {},
   "source": [
    "# Min and Max Values for Each Dictionary"
   ]
  },
  {
   "cell_type": "code",
   "execution_count": 13,
   "metadata": {},
   "outputs": [
    {
     "name": "stdout",
     "output_type": "stream",
     "text": [
      "(3880894, 4089950)\n",
      "(3018140, 3525858)\n",
      "(746696, 1326855)\n",
      "(4079723, 6446196)\n"
     ]
    }
   ],
   "source": [
    "def min_and_max(dictionary):\n",
    "    key = max(dictionary, key = dictionary.get)\n",
    "    max_num = dictionary[key]\n",
    "    key = min(dictionary, key = dictionary.get)\n",
    "    min_num = dictionary[key]\n",
    "    return min_num, max_num\n",
    "print(min_and_max(cdc_year_births))\n",
    "print(min_and_max(cdc_month_births))\n",
    "print(min_and_max(cdc_dom_births))\n",
    "print(min_and_max(cdc_dow_births))"
   ]
  },
  {
   "cell_type": "markdown",
   "metadata": {},
   "source": [
    "# Changes in "
   ]
  },
  {
   "cell_type": "code",
   "execution_count": 34,
   "metadata": {},
   "outputs": [
    {
     "data": {
      "text/plain": [
       "{1994: 329737,\n",
       " 1995: 68,\n",
       " 1996: -11280,\n",
       " 1997: 3342,\n",
       " 1998: 5224,\n",
       " 1999: 5110,\n",
       " 2000: 9005,\n",
       " 2001: -10121,\n",
       " 2002: -3497,\n",
       " 2003: 9837}"
      ]
     },
     "execution_count": 34,
     "metadata": {},
     "output_type": "execute_result"
    }
   ],
   "source": [
    "def Column_per_Year_Comp(data, column, value):\n",
    "    # Returns a dictionary with the change of births compared to the year before.\n",
    "    \n",
    "    yearly_values = {}\n",
    "    \n",
    "    # First the total births for a given column are separated by year\n",
    "    for row in data:\n",
    "        length_of_time = row[column]\n",
    "        births = row[4]\n",
    "        year = row[0]\n",
    "        if year in yearly_values and length_of_time == value:\n",
    "            yearly_values[year] += births\n",
    "        elif year not in yearly_values and length_of_time == value:\n",
    "            yearly_values[year] = births\n",
    "        else:\n",
    "            pass\n",
    "        \n",
    "    yearly_change = {}\n",
    "    \n",
    "    # The differences are taken to see the change from the year before\n",
    "    \n",
    "    for year, births in yearly_values.items():\n",
    "        if year == 1994:\n",
    "            yearly_change[year] = births\n",
    "        else:\n",
    "            yearly_change[year] = births - yearly_values[year-1]\n",
    "    return yearly_change\n",
    "\n",
    "Column_per_Year_Comp(cdc_list, 3, 7)\n",
    "Column_per_Year_Comp(cdc_list, 1, 6)"
   ]
  }
 ],
 "metadata": {
  "anaconda-cloud": {},
  "kernelspec": {
   "display_name": "Python 3",
   "language": "python",
   "name": "python3"
  },
  "language_info": {
   "codemirror_mode": {
    "name": "ipython",
    "version": 3
   },
   "file_extension": ".py",
   "mimetype": "text/x-python",
   "name": "python",
   "nbconvert_exporter": "python",
   "pygments_lexer": "ipython3",
   "version": "3.6.5"
  }
 },
 "nbformat": 4,
 "nbformat_minor": 1
}
